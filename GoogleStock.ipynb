{
  "cells": [
    {
      "cell_type": "code",
      "execution_count": null,
      "id": "73a3c96f-494d-48b4-9d1b-8ff133cb26b0",
      "metadata": {
        "id": "73a3c96f-494d-48b4-9d1b-8ff133cb26b0"
      },
      "outputs": [],
      "source": [
        "import numpy as np\n",
        "import pandas as pd\n",
        "import matplotlib.pyplot as plt"
      ]
    },
    {
      "cell_type": "code",
      "execution_count": null,
      "id": "40981817-c065-4fe1-84b1-3b150cbdf2b0",
      "metadata": {
        "id": "40981817-c065-4fe1-84b1-3b150cbdf2b0",
        "outputId": "caccb380-8506-4231-892e-4360a710e12c"
      },
      "outputs": [
        {
          "data": {
            "text/html": [
              "<div>\n",
              "<style scoped>\n",
              "    .dataframe tbody tr th:only-of-type {\n",
              "        vertical-align: middle;\n",
              "    }\n",
              "\n",
              "    .dataframe tbody tr th {\n",
              "        vertical-align: top;\n",
              "    }\n",
              "\n",
              "    .dataframe thead th {\n",
              "        text-align: right;\n",
              "    }\n",
              "</style>\n",
              "<table border=\"1\" class=\"dataframe\">\n",
              "  <thead>\n",
              "    <tr style=\"text-align: right;\">\n",
              "      <th></th>\n",
              "      <th>Date</th>\n",
              "      <th>Open</th>\n",
              "      <th>High</th>\n",
              "      <th>Low</th>\n",
              "      <th>Close</th>\n",
              "      <th>Volume</th>\n",
              "    </tr>\n",
              "  </thead>\n",
              "  <tbody>\n",
              "    <tr>\n",
              "      <th>0</th>\n",
              "      <td>1/3/2012</td>\n",
              "      <td>325.25</td>\n",
              "      <td>332.83</td>\n",
              "      <td>324.97</td>\n",
              "      <td>663.59</td>\n",
              "      <td>7,380,500</td>\n",
              "    </tr>\n",
              "    <tr>\n",
              "      <th>1</th>\n",
              "      <td>1/4/2012</td>\n",
              "      <td>331.27</td>\n",
              "      <td>333.87</td>\n",
              "      <td>329.08</td>\n",
              "      <td>666.45</td>\n",
              "      <td>5,749,400</td>\n",
              "    </tr>\n",
              "    <tr>\n",
              "      <th>2</th>\n",
              "      <td>1/5/2012</td>\n",
              "      <td>329.83</td>\n",
              "      <td>330.75</td>\n",
              "      <td>326.89</td>\n",
              "      <td>657.21</td>\n",
              "      <td>6,590,300</td>\n",
              "    </tr>\n",
              "    <tr>\n",
              "      <th>3</th>\n",
              "      <td>1/6/2012</td>\n",
              "      <td>328.34</td>\n",
              "      <td>328.77</td>\n",
              "      <td>323.68</td>\n",
              "      <td>648.24</td>\n",
              "      <td>5,405,900</td>\n",
              "    </tr>\n",
              "    <tr>\n",
              "      <th>4</th>\n",
              "      <td>1/9/2012</td>\n",
              "      <td>322.04</td>\n",
              "      <td>322.29</td>\n",
              "      <td>309.46</td>\n",
              "      <td>620.76</td>\n",
              "      <td>11,688,800</td>\n",
              "    </tr>\n",
              "  </tbody>\n",
              "</table>\n",
              "</div>"
            ],
            "text/plain": [
              "       Date    Open    High     Low   Close      Volume\n",
              "0  1/3/2012  325.25  332.83  324.97  663.59   7,380,500\n",
              "1  1/4/2012  331.27  333.87  329.08  666.45   5,749,400\n",
              "2  1/5/2012  329.83  330.75  326.89  657.21   6,590,300\n",
              "3  1/6/2012  328.34  328.77  323.68  648.24   5,405,900\n",
              "4  1/9/2012  322.04  322.29  309.46  620.76  11,688,800"
            ]
          },
          "execution_count": 2,
          "metadata": {},
          "output_type": "execute_result"
        }
      ],
      "source": [
        "train_df = pd.read_csv(\"Google_Stock_Price_Train.csv\")\n",
        "train_df.head()"
      ]
    },
    {
      "cell_type": "code",
      "execution_count": null,
      "id": "551c4fc0-de3c-4c82-8d19-9cebb096205c",
      "metadata": {
        "id": "551c4fc0-de3c-4c82-8d19-9cebb096205c",
        "outputId": "fc5a3a8f-e0e7-40af-d9fe-ec68cecbdfb6"
      },
      "outputs": [
        {
          "data": {
            "text/html": [
              "<div>\n",
              "<style scoped>\n",
              "    .dataframe tbody tr th:only-of-type {\n",
              "        vertical-align: middle;\n",
              "    }\n",
              "\n",
              "    .dataframe tbody tr th {\n",
              "        vertical-align: top;\n",
              "    }\n",
              "\n",
              "    .dataframe thead th {\n",
              "        text-align: right;\n",
              "    }\n",
              "</style>\n",
              "<table border=\"1\" class=\"dataframe\">\n",
              "  <thead>\n",
              "    <tr style=\"text-align: right;\">\n",
              "      <th></th>\n",
              "      <th>Date</th>\n",
              "      <th>Open</th>\n",
              "      <th>High</th>\n",
              "      <th>Low</th>\n",
              "      <th>Close</th>\n",
              "      <th>Volume</th>\n",
              "    </tr>\n",
              "  </thead>\n",
              "  <tbody>\n",
              "    <tr>\n",
              "      <th>1253</th>\n",
              "      <td>12/23/2016</td>\n",
              "      <td>790.90</td>\n",
              "      <td>792.74</td>\n",
              "      <td>787.28</td>\n",
              "      <td>789.91</td>\n",
              "      <td>623,400</td>\n",
              "    </tr>\n",
              "    <tr>\n",
              "      <th>1254</th>\n",
              "      <td>12/27/2016</td>\n",
              "      <td>790.68</td>\n",
              "      <td>797.86</td>\n",
              "      <td>787.66</td>\n",
              "      <td>791.55</td>\n",
              "      <td>789,100</td>\n",
              "    </tr>\n",
              "    <tr>\n",
              "      <th>1255</th>\n",
              "      <td>12/28/2016</td>\n",
              "      <td>793.70</td>\n",
              "      <td>794.23</td>\n",
              "      <td>783.20</td>\n",
              "      <td>785.05</td>\n",
              "      <td>1,153,800</td>\n",
              "    </tr>\n",
              "    <tr>\n",
              "      <th>1256</th>\n",
              "      <td>12/29/2016</td>\n",
              "      <td>783.33</td>\n",
              "      <td>785.93</td>\n",
              "      <td>778.92</td>\n",
              "      <td>782.79</td>\n",
              "      <td>744,300</td>\n",
              "    </tr>\n",
              "    <tr>\n",
              "      <th>1257</th>\n",
              "      <td>12/30/2016</td>\n",
              "      <td>782.75</td>\n",
              "      <td>782.78</td>\n",
              "      <td>770.41</td>\n",
              "      <td>771.82</td>\n",
              "      <td>1,770,000</td>\n",
              "    </tr>\n",
              "  </tbody>\n",
              "</table>\n",
              "</div>"
            ],
            "text/plain": [
              "            Date    Open    High     Low   Close     Volume\n",
              "1253  12/23/2016  790.90  792.74  787.28  789.91    623,400\n",
              "1254  12/27/2016  790.68  797.86  787.66  791.55    789,100\n",
              "1255  12/28/2016  793.70  794.23  783.20  785.05  1,153,800\n",
              "1256  12/29/2016  783.33  785.93  778.92  782.79    744,300\n",
              "1257  12/30/2016  782.75  782.78  770.41  771.82  1,770,000"
            ]
          },
          "execution_count": 3,
          "metadata": {},
          "output_type": "execute_result"
        }
      ],
      "source": [
        "train_df.tail()"
      ]
    },
    {
      "cell_type": "code",
      "execution_count": null,
      "id": "6f1ee713-35d2-4621-aacd-5aa4f2d27310",
      "metadata": {
        "id": "6f1ee713-35d2-4621-aacd-5aa4f2d27310",
        "outputId": "b36cb95a-62b9-4fa1-e141-5a15352137c8"
      },
      "outputs": [
        {
          "data": {
            "text/html": [
              "<div>\n",
              "<style scoped>\n",
              "    .dataframe tbody tr th:only-of-type {\n",
              "        vertical-align: middle;\n",
              "    }\n",
              "\n",
              "    .dataframe tbody tr th {\n",
              "        vertical-align: top;\n",
              "    }\n",
              "\n",
              "    .dataframe thead th {\n",
              "        text-align: right;\n",
              "    }\n",
              "</style>\n",
              "<table border=\"1\" class=\"dataframe\">\n",
              "  <thead>\n",
              "    <tr style=\"text-align: right;\">\n",
              "      <th></th>\n",
              "      <th>Date</th>\n",
              "      <th>Open</th>\n",
              "      <th>High</th>\n",
              "      <th>Low</th>\n",
              "      <th>Close</th>\n",
              "      <th>Volume</th>\n",
              "    </tr>\n",
              "  </thead>\n",
              "  <tbody>\n",
              "    <tr>\n",
              "      <th>0</th>\n",
              "      <td>1/3/2017</td>\n",
              "      <td>778.81</td>\n",
              "      <td>789.63</td>\n",
              "      <td>775.80</td>\n",
              "      <td>786.14</td>\n",
              "      <td>1,657,300</td>\n",
              "    </tr>\n",
              "    <tr>\n",
              "      <th>1</th>\n",
              "      <td>1/4/2017</td>\n",
              "      <td>788.36</td>\n",
              "      <td>791.34</td>\n",
              "      <td>783.16</td>\n",
              "      <td>786.90</td>\n",
              "      <td>1,073,000</td>\n",
              "    </tr>\n",
              "    <tr>\n",
              "      <th>2</th>\n",
              "      <td>1/5/2017</td>\n",
              "      <td>786.08</td>\n",
              "      <td>794.48</td>\n",
              "      <td>785.02</td>\n",
              "      <td>794.02</td>\n",
              "      <td>1,335,200</td>\n",
              "    </tr>\n",
              "    <tr>\n",
              "      <th>3</th>\n",
              "      <td>1/6/2017</td>\n",
              "      <td>795.26</td>\n",
              "      <td>807.90</td>\n",
              "      <td>792.20</td>\n",
              "      <td>806.15</td>\n",
              "      <td>1,640,200</td>\n",
              "    </tr>\n",
              "    <tr>\n",
              "      <th>4</th>\n",
              "      <td>1/9/2017</td>\n",
              "      <td>806.40</td>\n",
              "      <td>809.97</td>\n",
              "      <td>802.83</td>\n",
              "      <td>806.65</td>\n",
              "      <td>1,272,400</td>\n",
              "    </tr>\n",
              "  </tbody>\n",
              "</table>\n",
              "</div>"
            ],
            "text/plain": [
              "       Date    Open    High     Low   Close     Volume\n",
              "0  1/3/2017  778.81  789.63  775.80  786.14  1,657,300\n",
              "1  1/4/2017  788.36  791.34  783.16  786.90  1,073,000\n",
              "2  1/5/2017  786.08  794.48  785.02  794.02  1,335,200\n",
              "3  1/6/2017  795.26  807.90  792.20  806.15  1,640,200\n",
              "4  1/9/2017  806.40  809.97  802.83  806.65  1,272,400"
            ]
          },
          "execution_count": 4,
          "metadata": {},
          "output_type": "execute_result"
        }
      ],
      "source": [
        "test_df = pd.read_csv(\"Google_Stock_Price_Test.csv\")\n",
        "test_df.head()"
      ]
    },
    {
      "cell_type": "code",
      "execution_count": null,
      "id": "526aa5ce-a84f-40e1-8f25-358de8b6269d",
      "metadata": {
        "id": "526aa5ce-a84f-40e1-8f25-358de8b6269d",
        "outputId": "ca1cb9d4-1a42-46ba-ce53-1ad90e1ed795"
      },
      "outputs": [
        {
          "name": "stdout",
          "output_type": "stream",
          "text": [
            "[[325.25]\n",
            " [331.27]\n",
            " [329.83]\n",
            " ...\n",
            " [793.7 ]\n",
            " [783.33]\n",
            " [782.75]]\n"
          ]
        }
      ],
      "source": [
        "train = train_df.loc[:,[\"Open\"]].values\n",
        "train.shape\n",
        "print(train)"
      ]
    },
    {
      "cell_type": "code",
      "execution_count": null,
      "id": "7669ea91-0b2d-4836-8e76-1b3b88167ced",
      "metadata": {
        "id": "7669ea91-0b2d-4836-8e76-1b3b88167ced",
        "outputId": "f8444934-677d-4b00-aa36-66ee98c75bde"
      },
      "outputs": [
        {
          "name": "stdout",
          "output_type": "stream",
          "text": [
            "[[0.08581368]\n",
            " [0.09701243]\n",
            " [0.09433366]\n",
            " ...\n",
            " [0.95725128]\n",
            " [0.93796041]\n",
            " [0.93688146]]\n"
          ]
        }
      ],
      "source": [
        "from sklearn.preprocessing import MinMaxScaler\n",
        "scaler = MinMaxScaler()\n",
        "train_scaled = scaler.fit_transform(train)\n",
        "print(train_scaled)"
      ]
    },
    {
      "cell_type": "code",
      "execution_count": null,
      "id": "6b56ae89-7f06-4635-b4b3-9028ecb0cd64",
      "metadata": {
        "id": "6b56ae89-7f06-4635-b4b3-9028ecb0cd64"
      },
      "outputs": [],
      "source": [
        "x_train = []\n",
        "y_train = []\n",
        "time = 60\n",
        "for i in range(60,train_scaled.shape[0]):\n",
        "    x_train.append(train_scaled[i-60:i,0])\n",
        "    y_train.append(train_scaled[i,0])\n",
        "x_train = np.array(x_train)\n",
        "y_train = np.array(y_train)"
      ]
    },
    {
      "cell_type": "code",
      "execution_count": null,
      "id": "ccb65a16-6394-4f55-a5a2-d6fd37d37ab9",
      "metadata": {
        "id": "ccb65a16-6394-4f55-a5a2-d6fd37d37ab9",
        "outputId": "ca1cc6fc-591d-4cb1-cf09-6fde7fb14c78"
      },
      "outputs": [
        {
          "data": {
            "text/plain": [
              "((1198, 60), (1198,))"
            ]
          },
          "execution_count": 8,
          "metadata": {},
          "output_type": "execute_result"
        }
      ],
      "source": [
        "x_train.shape,y_train.shape"
      ]
    },
    {
      "cell_type": "code",
      "execution_count": null,
      "id": "17a20d4f-8784-42ee-8df7-8c77cbe0d2bb",
      "metadata": {
        "id": "17a20d4f-8784-42ee-8df7-8c77cbe0d2bb",
        "outputId": "39aab7bd-c1e8-476d-e641-b06a30ef08a7"
      },
      "outputs": [
        {
          "data": {
            "text/plain": [
              "(1198, 60, 1)"
            ]
          },
          "execution_count": 9,
          "metadata": {},
          "output_type": "execute_result"
        }
      ],
      "source": [
        "x_train = np.reshape(x_train,newshape=(x_train.shape[0],x_train.shape[1],1))\n",
        "x_train.shape"
      ]
    },
    {
      "cell_type": "code",
      "execution_count": null,
      "id": "8dbc7aeb-e055-45db-a09f-0655bdcfb272",
      "metadata": {
        "id": "8dbc7aeb-e055-45db-a09f-0655bdcfb272",
        "outputId": "c576fde3-48c6-4132-b960-05159025c12a"
      },
      "outputs": [
        {
          "name": "stderr",
          "output_type": "stream",
          "text": [
            "C:\\Users\\Ashvini Mahajan\\anaconda3\\Lib\\site-packages\\keras\\src\\layers\\rnn\\rnn.py:200: UserWarning: Do not pass an `input_shape`/`input_dim` argument to a layer. When using Sequential models, prefer using an `Input(shape)` object as the first layer in the model instead.\n",
            "  super().__init__(**kwargs)\n"
          ]
        },
        {
          "name": "stdout",
          "output_type": "stream",
          "text": [
            "Epoch 1/10\n",
            "\u001b[1m1198/1198\u001b[0m \u001b[32m━━━━━━━━━━━━━━━━━━━━\u001b[0m\u001b[37m\u001b[0m \u001b[1m61s\u001b[0m 35ms/step - loss: 0.0149 - mae: 0.0623\n",
            "Epoch 2/10\n",
            "\u001b[1m1198/1198\u001b[0m \u001b[32m━━━━━━━━━━━━━━━━━━━━\u001b[0m\u001b[37m\u001b[0m \u001b[1m43s\u001b[0m 36ms/step - loss: 0.0016 - mae: 0.0283\n",
            "Epoch 3/10\n",
            "\u001b[1m1198/1198\u001b[0m \u001b[32m━━━━━━━━━━━━━━━━━━━━\u001b[0m\u001b[37m\u001b[0m \u001b[1m79s\u001b[0m 66ms/step - loss: 0.0012 - mae: 0.0250\n",
            "Epoch 4/10\n",
            "\u001b[1m1198/1198\u001b[0m \u001b[32m━━━━━━━━━━━━━━━━━━━━\u001b[0m\u001b[37m\u001b[0m \u001b[1m79s\u001b[0m 66ms/step - loss: 9.9532e-04 - mae: 0.0227\n",
            "Epoch 5/10\n",
            "\u001b[1m1198/1198\u001b[0m \u001b[32m━━━━━━━━━━━━━━━━━━━━\u001b[0m\u001b[37m\u001b[0m \u001b[1m71s\u001b[0m 59ms/step - loss: 0.0024 - mae: 0.0307\n",
            "Epoch 6/10\n",
            "\u001b[1m1198/1198\u001b[0m \u001b[32m━━━━━━━━━━━━━━━━━━━━\u001b[0m\u001b[37m\u001b[0m \u001b[1m42s\u001b[0m 35ms/step - loss: 0.0010 - mae: 0.0234\n",
            "Epoch 7/10\n",
            "\u001b[1m1198/1198\u001b[0m \u001b[32m━━━━━━━━━━━━━━━━━━━━\u001b[0m\u001b[37m\u001b[0m \u001b[1m68s\u001b[0m 57ms/step - loss: 0.0010 - mae: 0.0219\n",
            "Epoch 8/10\n",
            "\u001b[1m1198/1198\u001b[0m \u001b[32m━━━━━━━━━━━━━━━━━━━━\u001b[0m\u001b[37m\u001b[0m \u001b[1m79s\u001b[0m 66ms/step - loss: 7.8104e-04 - mae: 0.0200\n",
            "Epoch 9/10\n",
            "\u001b[1m1198/1198\u001b[0m \u001b[32m━━━━━━━━━━━━━━━━━━━━\u001b[0m\u001b[37m\u001b[0m \u001b[1m66s\u001b[0m 55ms/step - loss: 0.0013 - mae: 0.0194\n",
            "Epoch 10/10\n",
            "\u001b[1m1198/1198\u001b[0m \u001b[32m━━━━━━━━━━━━━━━━━━━━\u001b[0m\u001b[37m\u001b[0m \u001b[1m42s\u001b[0m 35ms/step - loss: 9.6825e-04 - mae: 0.0233\n"
          ]
        },
        {
          "data": {
            "text/plain": [
              "<keras.src.callbacks.history.History at 0x10c3079c7d0>"
            ]
          },
          "execution_count": 10,
          "metadata": {},
          "output_type": "execute_result"
        }
      ],
      "source": [
        "from keras.models import Sequential\n",
        "from keras.layers import Dense, SimpleRNN,Dropout\n",
        "\n",
        "# initialisinig the RNN\n",
        "model = Sequential()\n",
        "\n",
        "# first RNN layer\n",
        "model.add(SimpleRNN(units = 100, activation=\"relu\", return_sequences=True ,input_shape = (x_train.shape[1], 1)))\n",
        "\n",
        "# second RNN layer\n",
        "model.add(SimpleRNN(units = 100, activation=\"relu\", return_sequences=True))\n",
        "\n",
        "# third RNN layer\n",
        "model.add(SimpleRNN(units = 100 , activation=\"relu\", return_sequences=True))\n",
        "\n",
        "# fourth RNN layer\n",
        "model.add(SimpleRNN(units = 100))\n",
        "\n",
        "# Adding thw output Layer\n",
        "model.add(Dense(units=1))\n",
        "\n",
        "# Compiling the RNN\n",
        "model.compile(optimizer= \"adam\", loss='mean_squared_error',metrics=['mae'])\n",
        "\n",
        "model.fit(x_train, y_train, epochs =10, batch_size = 1)"
      ]
    },
    {
      "cell_type": "code",
      "execution_count": null,
      "id": "9b4f5b0b-7c27-44de-b51d-14335740fdd6",
      "metadata": {
        "id": "9b4f5b0b-7c27-44de-b51d-14335740fdd6",
        "outputId": "d2b088d8-5e50-4815-df65-697b6e1abdf4"
      },
      "outputs": [
        {
          "data": {
            "text/plain": [
              "(80,)"
            ]
          },
          "execution_count": 11,
          "metadata": {},
          "output_type": "execute_result"
        }
      ],
      "source": [
        "# test data set\n",
        "\n",
        "data = pd.concat((train_df['Open'],test_df['Open']),axis=0)\n",
        "test_input = data.iloc[len(data) - len(test_df) - time : ].values\n",
        "test_input.shape"
      ]
    },
    {
      "cell_type": "code",
      "execution_count": null,
      "id": "5a03e3a3-78ec-4a7e-beb8-2fb4f702cf79",
      "metadata": {
        "id": "5a03e3a3-78ec-4a7e-beb8-2fb4f702cf79",
        "outputId": "b868f684-534c-4ffa-fd0c-636dc96d2bf3"
      },
      "outputs": [
        {
          "data": {
            "text/plain": [
              "(80, 1)"
            ]
          },
          "execution_count": 12,
          "metadata": {},
          "output_type": "execute_result"
        }
      ],
      "source": [
        "test_input = test_input.reshape(-1,1)\n",
        "test_input.shape"
      ]
    },
    {
      "cell_type": "code",
      "execution_count": null,
      "id": "ee219974-fd93-4dfc-bd7d-f27c7e1b6369",
      "metadata": {
        "id": "ee219974-fd93-4dfc-bd7d-f27c7e1b6369"
      },
      "outputs": [],
      "source": [
        "test_scaled = scaler.transform(test_input)"
      ]
    },
    {
      "cell_type": "code",
      "execution_count": null,
      "id": "92531815-34e0-4c1d-9445-bd42b117b9c1",
      "metadata": {
        "id": "92531815-34e0-4c1d-9445-bd42b117b9c1",
        "outputId": "006f58ef-054b-45ad-e8f9-355ae75f2793"
      },
      "outputs": [
        {
          "data": {
            "text/plain": [
              "(20, 60)"
            ]
          },
          "execution_count": 14,
          "metadata": {},
          "output_type": "execute_result"
        }
      ],
      "source": [
        "x_test = []\n",
        "for i in range(time,test_scaled.shape[0]):\n",
        "    x_test.append(test_scaled[i - time: i,0 ])\n",
        "x_test = np.array(x_test)\n",
        "x_test.shape"
      ]
    },
    {
      "cell_type": "code",
      "execution_count": null,
      "id": "82e7087b-3671-4b4b-a206-82288c7bc527",
      "metadata": {
        "id": "82e7087b-3671-4b4b-a206-82288c7bc527"
      },
      "outputs": [],
      "source": [
        "y_test = test_df.loc[:,\"Open\"].values"
      ]
    },
    {
      "cell_type": "code",
      "execution_count": null,
      "id": "dff05d06-9b4f-4c3d-af58-078620e60df9",
      "metadata": {
        "id": "dff05d06-9b4f-4c3d-af58-078620e60df9",
        "outputId": "7eb39c76-8ef3-4263-a437-fdd0cb9817b5"
      },
      "outputs": [
        {
          "name": "stdout",
          "output_type": "stream",
          "text": [
            "\u001b[1m1/1\u001b[0m \u001b[32m━━━━━━━━━━━━━━━━━━━━\u001b[0m\u001b[37m\u001b[0m \u001b[1m1s\u001b[0m 854ms/step\n"
          ]
        }
      ],
      "source": [
        "# predictiton\n",
        "\n",
        "y_pred = model.predict(x_test)\n",
        "y_pred = scaler.inverse_transform(y_pred)"
      ]
    },
    {
      "cell_type": "code",
      "execution_count": null,
      "id": "7e9f7ec4-ec70-4c78-b9c2-48650cfadca9",
      "metadata": {
        "id": "7e9f7ec4-ec70-4c78-b9c2-48650cfadca9",
        "outputId": "850e46b0-0daf-4329-ed75-681db75ddce0"
      },
      "outputs": [
        {
          "name": "stdout",
          "output_type": "stream",
          "text": [
            "MAE: 6.230399414062498\n",
            "RMSE: 8.658696676381085\n",
            "R² Score: 0.6550421114889007\n"
          ]
        }
      ],
      "source": [
        "# evaluation unscaled\n",
        "\n",
        "from sklearn.metrics import mean_squared_error, mean_absolute_error, r2_score\n",
        "import numpy as np\n",
        "\n",
        "mse = mean_squared_error(y_test, y_pred)\n",
        "rmse = np.sqrt(mse)\n",
        "mae = mean_absolute_error(y_test, y_pred)\n",
        "r2 = r2_score(y_test, y_pred) #R2 score near to 0.7 shows is good for stock prediction\n",
        "\n",
        "print(f\"MAE: {mae}\")\n",
        "print(f\"RMSE: {rmse}\")\n",
        "print(f\"R² Score: {r2}\")"
      ]
    },
    {
      "cell_type": "code",
      "execution_count": null,
      "id": "20e6debb-168b-48cf-b267-d85b102cbd46",
      "metadata": {
        "id": "20e6debb-168b-48cf-b267-d85b102cbd46",
        "outputId": "a7e7f7f5-4979-4ad7-d24a-1d4c3cfd3fb8"
      },
      "outputs": [
        {
          "name": "stdout",
          "output_type": "stream",
          "text": [
            "\u001b[1m1/1\u001b[0m \u001b[32m━━━━━━━━━━━━━━━━━━━━\u001b[0m\u001b[37m\u001b[0m \u001b[1m0s\u001b[0m 183ms/step - loss: 2.5945e-04 - mae: 0.0116\n",
            "Test MSE (scaled): 0.0002594467077869922\n",
            "Test MAE (scaled): 0.011590063571929932\n"
          ]
        }
      ],
      "source": [
        "y_test_scaled = scaler.transform(y_test.reshape(-1, 1)).flatten()\n",
        "\n",
        "loss, mae = model.evaluate(x_test, y_test_scaled)\n",
        "print(\"Test MSE (scaled):\", loss)\n",
        "print(\"Test MAE (scaled):\", mae)\n"
      ]
    },
    {
      "cell_type": "code",
      "execution_count": null,
      "id": "59664c52-e28a-4059-b5de-12ebd4b5b935",
      "metadata": {
        "id": "59664c52-e28a-4059-b5de-12ebd4b5b935",
        "outputId": "5d3aad37-eef0-4c65-ae25-d942d532ced8"
      },
      "outputs": [
        {
          "name": "stdout",
          "output_type": "stream",
          "text": [
            "Accuracy 0.9025\n"
          ]
        }
      ],
      "source": [
        "# if + - 32 is allowed\n",
        "def stock_prediction_accuracy(y_true, y_pred, tolerance=5):  # tolerance in price units (like $32)\n",
        "    y_true = np.array(y_true)\n",
        "    y_pred = np.array(y_pred)\n",
        "    correct = np.abs(y_true - y_pred) <= tolerance\n",
        "    return np.mean(correct)\n",
        "\n",
        "accuracy = stock_prediction_accuracy(y_test, y_pred, tolerance=32)\n",
        "print(\"Accuracy\",accuracy)"
      ]
    },
    {
      "cell_type": "code",
      "execution_count": null,
      "id": "ec05e862-8f0b-4282-a560-222b9bb1c0e6",
      "metadata": {
        "id": "ec05e862-8f0b-4282-a560-222b9bb1c0e6",
        "outputId": "bf4e6ab9-12eb-4574-b8f6-48c955640d16"
      },
      "outputs": [
        {
          "data": {
            "image/png": "[encoded data removed]",
            "text/plain": [
              "<Figure size 640x480 with 1 Axes>"
            ]
          },
          "metadata": {},
          "output_type": "display_data"
        }
      ],
      "source": [
        "plt.plot(y_test, color = 'green', label = 'Real price')\n",
        "plt.plot(y_pred, color = 'black', label = 'Predicted price')\n",
        "\n",
        "plt.title('Google Stock price prediction')\n",
        "plt.xlabel('Time')\n",
        "plt.ylabel('Price')\n",
        "plt.legend()\n",
        "plt.show()"
      ]
    },
    {
      "cell_type": "code",
      "execution_count": null,
      "id": "d1f5cf2e-ea32-4b53-8e54-947b0aebfb5c",
      "metadata": {
        "id": "d1f5cf2e-ea32-4b53-8e54-947b0aebfb5c"
      },
      "outputs": [],
      "source": []
    }
  ],
  "metadata": {
    "kernelspec": {
      "display_name": "Python 3 (ipykernel)",
      "language": "python",
      "name": "python3"
    },
    "language_info": {
      "codemirror_mode": {
        "name": "ipython",
        "version": 3
      },
      "file_extension": ".py",
      "mimetype": "text/x-python",
      "name": "python",
      "nbconvert_exporter": "python",
      "pygments_lexer": "ipython3",
      "version": "3.12.7"
    },
    "colab": {
      "provenance": []
    }
  },
  "nbformat": 4,
  "nbformat_minor": 5
}